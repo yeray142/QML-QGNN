{
 "cells": [
  {
   "cell_type": "markdown",
   "metadata": {},
   "source": [
    "# Testing Q-Values calculation.\n",
    "\n",
    "In this notebook, we test the Q_Values computation of the Equivariant Quantum Circuit model."
   ]
  },
  {
   "cell_type": "code",
   "execution_count": 1181,
   "metadata": {
    "ExecuteTime": {
     "end_time": "2023-12-15T09:30:16.474657Z",
     "start_time": "2023-12-15T09:30:16.467098100Z"
    }
   },
   "outputs": [
    {
     "data": {
      "text/plain": "device(type='cpu')"
     },
     "execution_count": 1181,
     "metadata": {},
     "output_type": "execute_result"
    }
   ],
   "source": [
    "import numpy as np\n",
    "\n",
    "from scipy.spatial import distance_matrix\n",
    "import matplotlib.pyplot as plt\n",
    "\n",
    "import torch\n",
    "import torch.nn as nn\n",
    "\n",
    "# Qiskit imports\n",
    "from qiskit.quantum_info import SparsePauliOp\n",
    "from qiskit.circuit import QuantumCircuit, Parameter\n",
    "\n",
    "# Qiskit ML imports\n",
    "from qiskit_machine_learning.neural_networks import EstimatorQNN\n",
    "from qiskit_machine_learning.connectors import TorchConnector\n",
    "\n",
    "\"\"\" Note: the code is not optimized for GPU\n",
    "\"\"\"\n",
    "device = torch.device('cuda') if torch.cuda.is_available() else torch.device('cpu')\n",
    "device"
   ]
  },
  {
   "cell_type": "markdown",
   "metadata": {},
   "source": [
    "## Create Graph Instances\n",
    "Below we implement a small method to generate random graph instances."
   ]
  },
  {
   "cell_type": "code",
   "execution_count": 1182,
   "metadata": {
    "ExecuteTime": {
     "end_time": "2023-12-15T09:30:16.491837300Z",
     "start_time": "2023-12-15T09:30:16.474657Z"
    }
   },
   "outputs": [],
   "source": [
    "def get_graph_mat(n=10, size=1):\n",
    "    \"\"\" Throws n nodes uniformly at random on a square, and build a (fully connected) graph.\n",
    "        Returns the (N, 2) coordinates matrix, and the (N, N) matrix containing pairwise euclidean distances.\n",
    "    \"\"\"\n",
    "    coords = size * np.random.uniform(size=(n,2))\n",
    "    dist_mat = distance_matrix(coords, coords)\n",
    "    return coords, dist_mat\n",
    "\n",
    "def plot_graph(coords, mat):\n",
    "    \"\"\" Utility function to plot the fully connected graph\n",
    "    \"\"\"\n",
    "    n = len(coords)\n",
    "    \n",
    "    plt.scatter(coords[:, 0], coords[:, 1], s=[50 for _ in range(n)])\n",
    "    for i in range(n):\n",
    "        for j in range(n):\n",
    "            if j < i:\n",
    "                plt.plot([coords[i, 0], coords[j, 0]], [coords[i, 1], coords[j, 1]], 'b', alpha=0.7)\n",
    "                distance = mat[i, j]\n",
    "                mid_x = (coords[i, 0] + coords[j, 0]) / 2\n",
    "                mid_y = (coords[i, 1] + coords[j, 1]) / 2\n",
    "                plt.text(mid_x, mid_y, f'{distance:.2f}', color='red', fontsize=8, ha='center', va='center')"
   ]
  },
  {
   "cell_type": "code",
   "execution_count": 1183,
   "metadata": {
    "ExecuteTime": {
     "end_time": "2023-12-15T09:30:16.557093500Z",
     "start_time": "2023-12-15T09:30:16.476345600Z"
    }
   },
   "outputs": [
    {
     "data": {
      "text/plain": "<Figure size 640x480 with 1 Axes>",
      "image/png": "[encoded data removed]"
     },
     "metadata": {},
     "output_type": "display_data"
    }
   ],
   "source": [
    "coords, W_np = get_graph_mat(n=3)\n",
    "plot_graph(coords, W_np)\n",
    "plt.show()"
   ]
  },
  {
   "cell_type": "markdown",
   "source": [
    "## Quantum Circuit"
   ],
   "metadata": {
    "collapsed": false
   }
  },
  {
   "cell_type": "code",
   "execution_count": 1184,
   "outputs": [],
   "source": [
    "def graph_encoding_circuit(edges, num_qubits, reps, params, insert_barriers = True) -> QuantumCircuit:\n",
    "    \"\"\"\n",
    "    Defines the graph encoding quantum circuit.\n",
    "    :param edges: List of tuples of edges.\n",
    "    :param num_qubits: Number of qubits.\n",
    "    :param reps: Number of layers.\n",
    "    :param params: Parameters symbols.\n",
    "    :param insert_barriers: True if we want barriers in the quantum circuit.\n",
    "    :return: The Quantum Circuit.\n",
    "    \"\"\"\n",
    "    # Create a quantum circuit\n",
    "    circuit = QuantumCircuit(num_qubits)\n",
    "\n",
    "    # Apply Hadamard gates to all qubits\n",
    "    circuit.h(range(num_qubits))\n",
    "\n",
    "    for rep in range(reps):\n",
    "        edge_w = params[rep][-1]\n",
    "\n",
    "        # Edge encoding\n",
    "        for edge_i, edge in enumerate(edges):\n",
    "            circuit.cx(edge[0], edge[1])\n",
    "\n",
    "            circuit.rz(edge_w[edge_i], edge[1])\n",
    "\n",
    "            circuit.cx(edge[0], edge[1])\n",
    "\n",
    "        # This barrier is just to improve visualization, it can be removed\n",
    "        if insert_barriers: circuit.barrier()\n",
    "\n",
    "        # Vertex encoding\n",
    "        for q in range(num_qubits):\n",
    "            circuit.rx(params[rep][q], q)\n",
    "\n",
    "    return circuit"
   ],
   "metadata": {
    "collapsed": false,
    "ExecuteTime": {
     "end_time": "2023-12-15T09:30:16.562809Z",
     "start_time": "2023-12-15T09:30:16.560171800Z"
    }
   }
  },
  {
   "cell_type": "markdown",
   "source": [
    "## Q - Model"
   ],
   "metadata": {
    "collapsed": false
   }
  },
  {
   "cell_type": "code",
   "execution_count": 1185,
   "outputs": [],
   "source": [
    "class EquivariantLayer(nn.Module):\n",
    "    def __init__(\n",
    "            self,\n",
    "            num_input_params : int,\n",
    "            n_vars : int,\n",
    "            n_edges : int,\n",
    "            circuit_depth : int,\n",
    "            params : list):\n",
    "        \"\"\"\n",
    "        Initialize classical equivariant layer.\n",
    "        :param num_input_params: Number of input parameters.\n",
    "        :param n_vars: Number of variables.\n",
    "        :param n_edges: Number of edges.\n",
    "        :param circuit_depth: Depth of the circuit (repetitions).\n",
    "        :param params: List of parameters.\n",
    "        \"\"\"\n",
    "        super(EquivariantLayer, self).__init__()\n",
    "\n",
    "        # Define weights for the Layer\n",
    "        self.num_input_params = num_input_params * circuit_depth\n",
    "        self.num_params = 2 * circuit_depth\n",
    "        self.circuit_depth = circuit_depth\n",
    "\n",
    "        param_init = torch.ones(1, self.num_params, dtype=torch.float32)\n",
    "        self.params = torch.nn.Parameter(param_init)\n",
    "\n",
    "        self.param_repeats = []\n",
    "        for layer in range(self.circuit_depth):\n",
    "            self.param_repeats.append(n_vars)\n",
    "            self.param_repeats.append(n_edges)\n",
    "\n",
    "        alphabetical_params = sorted(params)\n",
    "        self.indices = [params.index(a) for a in alphabetical_params]\n",
    "\n",
    "    def forward(self, inputs):\n",
    "        \"\"\"\n",
    "        Forward execution of the layer.\n",
    "        :param inputs: Input data.\n",
    "        :return: Returns the expectation values.\n",
    "        \"\"\"\n",
    "        repeated_params = self.params.repeat_interleave(torch.tensor(self.param_repeats))\n",
    "\n",
    "        repeat_inputs = inputs.repeat(self.circuit_depth, 1)\n",
    "\n",
    "        data_values = repeat_inputs * repeated_params\n",
    "        output = data_values[:, self.indices]\n",
    "\n",
    "        return output"
   ],
   "metadata": {
    "collapsed": false,
    "ExecuteTime": {
     "end_time": "2023-12-15T09:30:16.568354300Z",
     "start_time": "2023-12-15T09:30:16.564808400Z"
    }
   }
  },
  {
   "cell_type": "code",
   "execution_count": 1186,
   "outputs": [],
   "source": [
    "class QModel(nn.Module):\n",
    "    def __init__(self, n_input_params : int, n_vars : int, num_edges_in_graph : int, n_layers : int,\n",
    "                 flattened_data_symbols : list, circuit : QuantumCircuit, readout_ops):\n",
    "        \"\"\"\n",
    "        The neural network that will parameterize the function Q.\n",
    "        \n",
    "        :param n_input_params: Number of input parameters.\n",
    "        :param n_vars: Number of variables in the Equivariant Layer.\n",
    "        :param num_edges_in_graph: Number of edges in the graph.\n",
    "        :param n_layers: Number of repetitions/layers.\n",
    "        :param flattened_data_symbols: Flattened data symbols for the Equivariant Layer.\n",
    "        :param circuit: The Equivariant Quantum Circuit.\n",
    "        \"\"\"\n",
    "        super(QModel, self).__init__()\n",
    "        self.n_input_params = n_input_params\n",
    "        self.n_vars = n_vars\n",
    "        self.num_edges_in_graph = num_edges_in_graph\n",
    "        self.n_layers = n_layers\n",
    "        self.flattened_data_symbols = flattened_data_symbols\n",
    "        \n",
    "        # Classical encoding layer.\n",
    "        self.encoding_layer = EquivariantLayer(num_input_params=self.n_input_params, n_vars=self.n_vars, \n",
    "                                               n_edges=self.num_edges_in_graph, circuit_depth=self.n_layers, \n",
    "                                               params=self.flattened_data_symbols)\n",
    "        \n",
    "        # The Equivariant Quantum Circuit for Torch Connector.\n",
    "        self.circuit = circuit\n",
    "\n",
    "    def forward(self, input_data, observables) -> torch.Tensor:\n",
    "        \"\"\"\n",
    "        Forward execution of the neural net.\n",
    "        \n",
    "        :param input_data: Input data.\n",
    "        :return: Expectation values for all available nodes.\n",
    "        \"\"\"\n",
    "        encoding_output = self.encoding_layer(input_data)\n",
    "        qnn = TorchConnector(\n",
    "            EstimatorQNN(\n",
    "                circuit=self.circuit,\n",
    "                input_params=self.circuit.parameters,\n",
    "                observables=observables\n",
    "            )\n",
    "        )\n",
    "        expectation_values = qnn(encoding_output)\n",
    "\n",
    "        return expectation_values"
   ],
   "metadata": {
    "collapsed": false,
    "ExecuteTime": {
     "end_time": "2023-12-15T09:30:16.574327400Z",
     "start_time": "2023-12-15T09:30:16.569351200Z"
    }
   }
  },
  {
   "cell_type": "code",
   "execution_count": 1187,
   "outputs": [],
   "source": [
    "from itertools import combinations\n",
    "\n",
    "N_NODES = 3\n",
    "N_LAYERS = 1\n",
    "\n",
    "fully_connected_qubits = list(combinations(list(range(N_NODES)), 2))\n",
    "\n",
    "def get_readout_op():\n",
    "    observables = []\n",
    "    for edge in fully_connected_qubits:\n",
    "        observable = SparsePauliOp.from_sparse_list(\n",
    "                        [(\"ZZ\", [edge[0], edge[1]], 1)],\n",
    "                        num_qubits=N_NODES\n",
    "                    )\n",
    "        observables.append(observable)\n",
    "    return observables\n",
    "\n",
    "def generate_eqc_model():\n",
    "    \"\"\"\n",
    "    Generates the EQC model.\n",
    "    :return: EQC model.\n",
    "    \"\"\"\n",
    "    num_edges_in_graph = len(fully_connected_qubits)\n",
    "    n_input_params = N_NODES + num_edges_in_graph\n",
    "\n",
    "    data_symbols = []\n",
    "    for layer in range(N_LAYERS):\n",
    "        data = [Parameter(f'layer[{layer}]_v[{qubit}]') for qubit in range(N_NODES)]\n",
    "        data += [[Parameter(f'layer[{layer}]_e[{ew}]') for ew in range(num_edges_in_graph)]]\n",
    "        data_symbols.append(data)\n",
    "\n",
    "    circuit = graph_encoding_circuit(fully_connected_qubits, N_NODES, N_LAYERS, data_symbols)\n",
    "\n",
    "    flattened_data_symbols = []\n",
    "    for layer in data_symbols:\n",
    "        for item in layer:\n",
    "            if type(item) == list:\n",
    "                for symbol in item:\n",
    "                    flattened_data_symbols.append(str(symbol))\n",
    "            else:\n",
    "                flattened_data_symbols.append(str(item))\n",
    "\n",
    "    model = QModel(\n",
    "        n_input_params=n_input_params, n_vars=N_NODES, \n",
    "        num_edges_in_graph=num_edges_in_graph, n_layers=N_LAYERS, \n",
    "        flattened_data_symbols=flattened_data_symbols, circuit=circuit,\n",
    "        readout_ops=get_readout_op()\n",
    "    )\n",
    "\n",
    "    return model"
   ],
   "metadata": {
    "collapsed": false,
    "ExecuteTime": {
     "end_time": "2023-12-15T09:30:16.581271Z",
     "start_time": "2023-12-15T09:30:16.575329900Z"
    }
   }
  },
  {
   "cell_type": "code",
   "execution_count": 1188,
   "outputs": [
    {
     "name": "stdout",
     "output_type": "stream",
     "text": [
      "The model: \n",
      "QModel(\n",
      "  (encoding_layer): EquivariantLayer()\n",
      ")\n",
      "===================\n",
      "The adjacency matrix: \n",
      "[[0.         0.23981561 0.35410536]\n",
      " [0.23981561 0.         0.32535491]\n",
      " [0.35410536 0.32535491 0.        ]]\n",
      "===================\n",
      "List of edge weights: \n",
      "[0.23981560604349283, 0.354105355987653, 0.32535491239258546]\n",
      "===================\n",
      "State list: \n",
      "[0.0, 3.141592653589793, 3.141592653589793, 0.23537062210626375, 0.3403274602270067, 0.3145528717082567]\n",
      "===================\n",
      "Tensor state list: \n",
      "tensor([[0.0000, 3.1416, 3.1416, 0.2354, 0.3403, 0.3146]])\n",
      "===================\n",
      "Q-Values: \n",
      "tensor([[-1.0000e+04, -4.6493e-09, -9.8263e-09]],\n",
      "       grad_fn=<_TorchNNFunctionBackward>)\n",
      "===================\n",
      "Next state: \n",
      "tensor(1)\n",
      "===================\n"
     ]
    },
    {
     "data": {
      "text/plain": "<Figure size 640x480 with 1 Axes>",
      "image/png": "[encoded data removed]"
     },
     "metadata": {},
     "output_type": "display_data"
    }
   ],
   "source": [
    "def graph_to_list(nodes: list, edge_weights: dict, available_nodes: list[int]) -> list[float]:\n",
    "    \"\"\"\n",
    "    Convert a graph into a list.\n",
    "    :param nodes: list of graph nodes.\n",
    "    :param fully_connected_edges: list of tuples of edges.\n",
    "    :param edge_weights: dictionary of edge weights.\n",
    "    :param available_nodes: list of available nodes.\n",
    "    :param node_to_qubit_map: dictionary to map nodes and qubits.\n",
    "    :return: list of values from graph.\n",
    "    \"\"\"\n",
    "    vals = []\n",
    "    for node in nodes:\n",
    "        n = int(node in available_nodes)\n",
    "        vals.append(n * np.pi)\n",
    "\n",
    "    for w in edge_weights:\n",
    "        vals.append(np.arctan(w))\n",
    "\n",
    "    return vals\n",
    "\n",
    "def get_mask(nodes, weight_mat, available_nodes, partial_tour):\n",
    "    mask = []\n",
    "    for n in nodes:\n",
    "        if n not in available_nodes:\n",
    "            mask.append(0)\n",
    "        elif n in available_nodes:\n",
    "            mask.append(weight_mat[partial_tour[-1], n])\n",
    "    return mask\n",
    "\n",
    "def get_observables(partial_tour, available_nodes, weight_mat, nodes):\n",
    "    observables = []\n",
    "    last_edge = () if len(partial_tour) == 0 else partial_tour[-1]\n",
    "    last_node = 0 if len(last_edge) == 0 else last_edge[1]\n",
    "    \n",
    "    for node in nodes:\n",
    "        if node in available_nodes:\n",
    "            observable = SparsePauliOp.from_sparse_list(\n",
    "                [(\"ZZ\", [last_node, node], weight_mat[last_node, node])],\n",
    "                num_qubits=N_NODES\n",
    "            )\n",
    "            observables.append(observable)\n",
    "        else:\n",
    "            observable = SparsePauliOp.from_sparse_list(\n",
    "                [(\"I\", [0], -10000)],\n",
    "                num_qubits=N_NODES\n",
    "            )\n",
    "            observables.append(observable)   \n",
    "    return observables\n",
    "\n",
    "# Generate model\n",
    "model = generate_eqc_model()\n",
    "print(\"The model: \")\n",
    "print(model)\n",
    "print(\"===================\")\n",
    "\n",
    "# Generate a TSP graph\n",
    "coords, weight_mat = get_graph_mat(n=N_NODES)\n",
    "plot_graph(coords, weight_mat)\n",
    "nodes = range(0, N_NODES)\n",
    "print(\"The adjacency matrix: \")\n",
    "print(weight_mat)\n",
    "print(\"===================\")\n",
    "\n",
    "# Initial node and available nodes\n",
    "initial_node = 0\n",
    "available_nodes = [1, 2, 3]\n",
    "\n",
    "# Get list of available edge weights\n",
    "edge_weights = []\n",
    "for q in fully_connected_qubits:\n",
    "    edge_weights.append(weight_mat[q[0], q[1]])\n",
    "print(\"List of edge weights: \")\n",
    "print(edge_weights)\n",
    "print(\"===================\")\n",
    "\n",
    "# Convert graph into a state list\n",
    "state_list = graph_to_list(\n",
    "    nodes=nodes, \n",
    "    edge_weights=edge_weights,\n",
    "    available_nodes=available_nodes\n",
    ")\n",
    "print(\"State list: \")\n",
    "print(state_list)\n",
    "print(\"===================\")\n",
    "\n",
    "# Convert state list into a tensor:\n",
    "state_tsr = torch.tensor(state_list, dtype=torch.float32).unsqueeze(0)\n",
    "print(\"Tensor state list: \")\n",
    "print(state_tsr)\n",
    "print(\"===================\")\n",
    "\n",
    "# Get Q-Values:\n",
    "expectations = model(state_tsr, get_observables(\n",
    "    partial_tour=[],\n",
    "    available_nodes=available_nodes,\n",
    "    weight_mat=weight_mat,\n",
    "    nodes=nodes\n",
    "))\n",
    "print(\"Q-Values: \")\n",
    "print(expectations)\n",
    "print(\"===================\")\n",
    "\n",
    "# Get next action:\n",
    "next_state = torch.argmax(expectations)\n",
    "print(\"Next state: \")\n",
    "print(next_state)\n",
    "print(\"===================\")"
   ],
   "metadata": {
    "collapsed": false,
    "ExecuteTime": {
     "end_time": "2023-12-15T09:30:16.706167400Z",
     "start_time": "2023-12-15T09:30:16.582276700Z"
    }
   }
  }
 ],
 "metadata": {
  "kernelspec": {
   "display_name": "Python 3",
   "language": "python",
   "name": "python3"
  },
  "language_info": {
   "codemirror_mode": {
    "name": "ipython",
    "version": 3
   },
   "file_extension": ".py",
   "mimetype": "text/x-python",
   "name": "python",
   "nbconvert_exporter": "python",
   "pygments_lexer": "ipython3",
   "version": "3.7.3"
  }
 },
 "nbformat": 4,
 "nbformat_minor": 2
}
